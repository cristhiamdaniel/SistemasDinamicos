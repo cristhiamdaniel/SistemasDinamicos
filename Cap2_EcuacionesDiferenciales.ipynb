{
 "cells": [
  {
   "cell_type": "code",
   "execution_count": 1,
   "id": "d490392d-e2af-4fae-aeaa-108200e8ec53",
   "metadata": {},
   "outputs": [
    {
     "name": "stdout",
     "output_type": "stream",
     "text": [
      "[Eq(x(t), -sqrt(C1 - t**2)), Eq(x(t), sqrt(C1 - t**2))]\n"
     ]
    }
   ],
   "source": [
    "# Program 02a: A simple separable ODE. See Example 1.\n",
    "from sympy import dsolve, Eq, Function, symbols\n",
    "t = symbols('t')\n",
    "x = symbols('x', cls=Function)\n",
    "sol = dsolve(Eq(x(t).diff(t), -t/x(t)), x(t))\n",
    "print(sol)"
   ]
  },
  {
   "cell_type": "code",
   "execution_count": 2,
   "id": "53ea5a1b-438a-4ccb-b406-3ddc1cf342d0",
   "metadata": {},
   "outputs": [
    {
     "name": "stdout",
     "output_type": "stream",
     "text": [
      "Eq(P(t), a*exp(a*(C1 + t))/(b*(exp(a*(C1 + t)) - 1)))\n"
     ]
    }
   ],
   "source": [
    "# Program 02b: The logistic equation. See Example 3.\n",
    "from sympy import dsolve, Eq, Function, symbols\n",
    "t = symbols('t')\n",
    "a = symbols('a')\n",
    "b=symbols('b')\n",
    "P=symbols('P', cls=Function)\n",
    "sol=dsolve(Eq(P(t).diff(t), P(t)*(a - b * P(t))), P(t))\n",
    "print(sol)"
   ]
  },
  {
   "cell_type": "code",
   "execution_count": 3,
   "id": "5d81f4cf-9806-4130-b95d-03626b745c7c",
   "metadata": {},
   "outputs": [
    {
     "name": "stdout",
     "output_type": "stream",
     "text": [
      "            2      4    6        \n",
      "           t    3⋅t    t     ⎛ 8⎞\n",
      "x(t) = 1 - ── + ──── - ── + O⎝t ⎠\n",
      "           2     8     16        \n"
     ]
    }
   ],
   "source": [
    "# Program 02c : Power series solution first order ODE.\n",
    "# See Example 7.\n",
    "from sympy import dsolve, Function, pprint\n",
    "from sympy.abc import t\n",
    "x = Function('x')\n",
    "ODE1 = x(t).diff(t) + t*x(t) - t**3\n",
    "pprint(dsolve(ODE1, hint='1st_power_series', n=8, ics={x(0):1}))"
   ]
  },
  {
   "cell_type": "code",
   "execution_count": null,
   "id": "dac7297e-e35b-4fe8-b3d6-c52e2735e3b2",
   "metadata": {},
   "outputs": [],
   "source": []
  }
 ],
 "metadata": {
  "kernelspec": {
   "display_name": "Python 3",
   "language": "python",
   "name": "python3"
  },
  "language_info": {
   "codemirror_mode": {
    "name": "ipython",
    "version": 3
   },
   "file_extension": ".py",
   "mimetype": "text/x-python",
   "name": "python",
   "nbconvert_exporter": "python",
   "pygments_lexer": "ipython3",
   "version": "3.8.8"
  }
 },
 "nbformat": 4,
 "nbformat_minor": 5
}
